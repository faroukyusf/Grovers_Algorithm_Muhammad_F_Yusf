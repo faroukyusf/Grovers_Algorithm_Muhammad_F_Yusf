{
  "nbformat": 4,
  "nbformat_minor": 0,
  "metadata": {
    "kernelspec": {
      "display_name": "Python [conda env:Qiskit] *",
      "language": "python",
      "name": "conda-env-Qiskit-py"
    },
    "language_info": {
      "codemirror_mode": {
        "name": "ipython",
        "version": 3
      },
      "file_extension": ".py",
      "mimetype": "text/x-python",
      "name": "python",
      "nbconvert_exporter": "python",
      "pygments_lexer": "ipython3",
      "version": "3.8.5"
    },
    "colab": {
      "name": "Phase_2_(Farouk).ipynb",
      "provenance": [],
      "collapsed_sections": []
    }
  },
  "cells": [
    {
      "cell_type": "markdown",
      "metadata": {
        "id": "tOb99Sh-HDUc"
      },
      "source": [
        "<h1><center>Solving the Lights Out Puzzle Using Grover's Algorithm</center></h1>\n",
        "<h3><center>Introduction to Quantum Computation and Quantum Information (CIE470) </center></h3>\n",
        "<h2><center>Course Project (Phase 2)</center></h2>\n",
        "<h3><center>Student: Muhammad Farouk El-Saeed</center></h3>\n",
        "<h3><center>ID: 201700188</center></h3>\n"
      ]
    },
    {
      "cell_type": "markdown",
      "metadata": {
        "id": "hjLMruZGHDUp"
      },
      "source": [
        "## Problem description: \n",
        "The Puzzle consists of an NxN grid of bulbs, where each bulb occupies a cell on the grid, and has its own switch, which when press switches the state of the bulb between \"on <----> off\" get flipped. The grid starts off in an initial state of on-&-off bulbs, and you need to find the sequence of switch presses that would \"turn off all the lights\", hence the name, \"Lights-Out-Puzzle\".  \n",
        "\n",
        "Consider the initial state in the picture below, with yellow meaning the coresponding bulb is on, this is the setup we will have to solve for:"
      ]
    },
    {
      "cell_type": "markdown",
      "metadata": {
        "id": "PoWFIPa1HDUq"
      },
      "source": [
        "<img src=\"initial_state.png\" style=\"width:200px;height:200px\"/>"
      ]
    },
    {
      "cell_type": "markdown",
      "metadata": {
        "id": "wdwyX2P7HDUr"
      },
      "source": [
        "This corresponds to initial state :[0, 1, 1, 0, 0, 1, 1, 0, 0]"
      ]
    },
    {
      "cell_type": "code",
      "metadata": {
        "id": "JgqhRlntHDUs"
      },
      "source": [
        "lights = [0, 1, 1, 0, 0, 1, 1, 0, 0] ## this is our variable holding the initial bulb states"
      ],
      "execution_count": 89,
      "outputs": []
    },
    {
      "cell_type": "markdown",
      "metadata": {
        "id": "0ZPgntDNHDUt"
      },
      "source": [
        "On flipping a switch, the corresponding bulb and the ones surrounding it have their states flipped similar to the illustration below:\n",
        "\n",
        "<img src=\"press_1.png\" style=\"width:200px;height:200px\"/>\n",
        "<img src=\"press_2.png\" style=\"width:200px;height:200px\"/>\n",
        "<img src=\"press_3.png\" style=\"width:200px;height:200px\"/>"
      ]
    },
    {
      "cell_type": "markdown",
      "metadata": {
        "id": "HGcRz6GaHDUt"
      },
      "source": [
        "Our goal is to find the sequence of switch flips, ex [000000111], that would turn off all the lights, with a grid looking like the one below:\n",
        "\n",
        "<img src=\"lights_out.png\" style=\"width:200px;height:200px\"/>"
      ]
    },
    {
      "cell_type": "markdown",
      "metadata": {
        "id": "-twa4rDhHDUu"
      },
      "source": [
        "## Steps:"
      ]
    },
    {
      "cell_type": "markdown",
      "metadata": {
        "id": "3mHPb9MLHDUu"
      },
      "source": [
        "#### A. Register Preparation: we need to setup the quantum and classical registers for the problem, which involves using 3 main quantum-registers and a classical-register.\n",
        "\n",
        "1. A register to hold the solution space of switch-states, since the solution to the problem is a set of 9 on/off(binary system) switches (we have a 3x3 grid of bulbs), call this register \"switch/var\".\n",
        "NB: remember a switch can be on or off (binary, and we can only flip a switch once), we therefore have $2^9$ possible states forming our state-space of possible solutions, a perfect candidate for mapping to a 9-qubit system.\n",
        "2. A control register which will carry temporary info about the state of the bulbs (bulb-states), and be used to determine if a given switch-state is a solution, call it \"bulb/ctrl\"\n",
        "3. An output qubit which will initiate a phase kickback if the control register (representing the bulb-states) reflects that a given switch-state is a solution.\n",
        "4. A classical register to store the measurements.  \n",
        "\n",
        "#### B. State initialization for our specific problem:\n",
        "To initilaize the circuit to map to our specific initial state to the register.\n",
        "\n",
        "#### C. Construct the problem Oracle:\n",
        "To construct an oracle that would assign a negative phase to the solution state.  \n",
        "\n",
        "#### D. Construct the Diffuser\n",
        " \n",
        "#### E. Construct the Grover-Circuit over the appropriate number of iterations\n",
        "\n",
        "#### F. Run the completed Grover-Circuit & Use the measurement to obtain the solution, which corresponds to the most probable state\n",
        "\n"
      ]
    },
    {
      "cell_type": "markdown",
      "metadata": {
        "id": "wqjKZd1NHDUv"
      },
      "source": [
        "## Solution: \n",
        "\n",
        "### IMPORTANT:   \n",
        "#### You need to Place the appropriate code in front of the Question cells, please adjust your code so that it fits this framework, no other solution steps will be accepted, if you understood the first phase it should be very easy to follow this framework no matter how you approach the problem."
      ]
    },
    {
      "cell_type": "markdown",
      "metadata": {
        "id": "7NHvrIF5HDUv"
      },
      "source": [
        "### A. Preparing registers before we initiate the states and apply an oracle and a Diffuser:"
      ]
    },
    {
      "cell_type": "markdown",
      "metadata": {
        "id": "pHK_i14vHDUw"
      },
      "source": [
        "#### Hint: your register will need 19 Qubits"
      ]
    },
    {
      "cell_type": "markdown",
      "metadata": {
        "id": "3sE8eaPJHDUw"
      },
      "source": [
        "### Q1: Register preparation :"
      ]
    },
    {
      "cell_type": "code",
      "metadata": {
        "id": "x4xExOZrMCNe"
      },
      "source": [
        "!pip install qiskit\r\n",
        "!pip install pylatexenc"
      ],
      "execution_count": null,
      "outputs": []
    },
    {
      "cell_type": "code",
      "metadata": {
        "id": "7gKgZKZlHDUx",
        "colab": {
          "base_uri": "https://localhost:8080/",
          "height": 773
        },
        "outputId": "58025342-0fe9-43e3-a76d-7a002eccdfc2"
      },
      "source": [
        "from qiskit import *\n",
        "from qiskit.tools.visualization import plot_histogram\n",
        "import math\n",
        "'''\n",
        "Q1: Register preparation :\n",
        "#first we choose a state to search for a solution to the lights out puzzel as a single value (all lights off), for example we're after\n",
        "a solution which looks like this state 000000000.\n",
        "\n",
        "#the number of qubits in use is 19 because we have 9 qubits for the number of the bulbs in the grid and another 9 for the solution space\n",
        "plus one qubit for the phase qickback.\n",
        "................................................................................................  \n",
        "\n",
        " construct the circuit \"qc\" given below by combining 4 inputs consisting of:\n",
        " 3 quantum registers (switch, bulb, output) and a classical register (result) which returns an initial quantum circuit\n",
        "\n",
        "'''\n",
        "switch = QuantumRegister(9, name='s')\n",
        "\n",
        "bulb = QuantumRegister(9, name='b')\n",
        "\n",
        "output = QuantumRegister(1, name='o')\n",
        "\n",
        "result = ClassicalRegister(9, name='r')\n",
        "\n",
        "qc = QuantumCircuit(switch, bulb, output, result) ## a circuit combining all the registers\n",
        "qr = QuantumCircuit(switch, bulb, output) ## a temporary variable in order to access our quantum registers\n",
        "qc.draw(output=\"mpl\",scale=0.8, vertical_compression=\"low\")\n"
      ],
      "execution_count": 91,
      "outputs": [
        {
          "output_type": "execute_result",
          "data": {
            "image/png": "[encoded data removed]",
            "text/plain": [
              "<Figure size 69.3942x982.464 with 1 Axes>"
            ]
          },
          "metadata": {
            "tags": []
          },
          "execution_count": 91
        }
      ]
    },
    {
      "cell_type": "markdown",
      "metadata": {
        "id": "p-rEOWuCHDUx"
      },
      "source": [
        "### Iterations:\n",
        "\n",
        "We can always approximate the number of iterations Grover's algorithm needs to reach a solution given the number of winners and the size of our solution state-space, here we have $2^9$ solutions, from which only one is the winner, so describe how many iterations we will need below:"
      ]
    },
    {
      "cell_type": "markdown",
      "metadata": {
        "id": "GKatFxCMHDUy"
      },
      "source": [
        "### Q2: Iterations can be determined by :\n"
      ]
    },
    {
      "cell_type": "markdown",
      "metadata": {
        "id": "XKfBjFvhHDUy"
      },
      "source": [
        "Q2: Describe how we determine the number of iterations and set the number of iterations for our case:\n",
        "\n",
        "it's 0.25 x π x sqaure root of(2^9) because we are searching for a single solution = 17 iterations"
      ]
    },
    {
      "cell_type": "code",
      "metadata": {
        "id": "KmcyU2oXHDUz"
      },
      "source": [
        "'''\n",
        "Q2: set Iterations variable: \n",
        "'''\n",
        "iterations = math.floor(3.14*0.25*math.sqrt(512))  ## initialize the iterations variable\n"
      ],
      "execution_count": 92,
      "outputs": []
    },
    {
      "cell_type": "markdown",
      "metadata": {
        "id": "pn0HkZJTHDUz"
      },
      "source": [
        "### B. State initialization for our specific problem:"
      ]
    },
    {
      "cell_type": "markdown",
      "metadata": {
        "id": "xICfrMCEHDUz"
      },
      "source": [
        "#### Next we need to define a function which\n",
        "A.  maps the initial bulb-state to the bulb register. for example ... initiate a [0, 1, 1, 0, 0, 1, 1, 0, 0] state, which would correspond to [off, on, on, off, off, on, on, off, off]\n",
        "\n",
        "B. initializes the $ \\left| S \\right\\rangle $ state (uniform superposition for the Grover circuit) \n",
        "\n",
        "C. Initializes the state of the Output Qubit which makes it suitable for phase kickback... you should know which state that is"
      ]
    },
    {
      "cell_type": "markdown",
      "metadata": {
        "id": "KIGok5vhHDU2"
      },
      "source": [
        "### Q3: Circuit initialization for the given lights-out setup :\n",
        "\n",
        "'''  \n",
        "Describe your code for this step:  \n",
        "First we initialize the bulb register into the already-initialized state \"011001100\". Then, we apply H gates to the first 9 qubits, which are the switch register, to make them equally probable in the solution space. After, that we initialize the state of the output qubit in a suitable manner for the phase qickback. \n",
        "\n",
        "'''"
      ]
    },
    {
      "cell_type": "code",
      "metadata": {
        "id": "0S2--PrHHDU3"
      },
      "source": [
        "## a function \"initialize\" with takes \"lights\" (the initial bulb-state) \"qc\" (our quantum circuit) \n",
        "## and qr (a temp variable for our register)\n",
        "\n",
        "def initialize(lights, qc, qr):\n",
        "    '''Q3: Circuit initialization'''\n",
        "  \n",
        "    ## initialize:\n",
        "    k = 0\n",
        "    for i in lights:\n",
        "        if i==1:\n",
        "            qc.x(qr[k])\n",
        "            k+=1\n",
        "        else:\n",
        "            k+=1\n",
        "\n",
        "    '''\n",
        "    ## initialize the state of the output qubit for phase kickback\n",
        "    '''\n",
        "    qc.h(switch[0:10])\n",
        "    qc.x(output[0])\n",
        "    qc.h(output[0])\n"
      ],
      "execution_count": 93,
      "outputs": []
    },
    {
      "cell_type": "markdown",
      "metadata": {
        "id": "KPDGvK8RHDU4"
      },
      "source": [
        "### C. Construct the problem Oracle:"
      ]
    },
    {
      "cell_type": "markdown",
      "metadata": {
        "id": "jmRXDkBHHDU5"
      },
      "source": [
        "#### The Oracle consists of 2 parts, \n",
        "\n",
        "First, we must define how a switch-state from our solution state-space affects a bulb-state.  \n",
        "For example [111111110] is a switch-state where all switches have been flipped, except the last one. Since we know what switching a flip does we can translate this sequence of switch flips to an effect on a bulb-state.  \n",
        "Accordingly, the first part of the oracle runs a given switch-state yielding a final bulb-state.\n",
        "\n",
        "Second we must define what \"light-state\" constitutes a Winner. By definition, our Winner switch-state is the one which renders `ALL bulb-qubits off`. Therefore, the second part of the oracle needs to extract that piece of information from the \"bulbs\" register, so that in case of finding a winner it could initiate a flip in the output register. This flipping of the output register will in turn initiate a phase-kickback, and we get a negative sign infront of our winner, which is what the oracle does, and we're done.\n"
      ]
    },
    {
      "cell_type": "markdown",
      "metadata": {
        "id": "538DqmdOHDU5"
      },
      "source": [
        "### Part 1 of the Oracle:  \n",
        "\n",
        "#### Q4: We need to define a function for the first part of the oracle below, which takes the prepared quantum circuit, some switch state, and the given initial bulb-state, and finally acts on the bulb-state accordingly.\n",
        "\n",
        "#### Hint: you will need a little bit more than 30 gates to achieve this."
      ]
    },
    {
      "cell_type": "markdown",
      "metadata": {
        "id": "bza0LctuHDU6"
      },
      "source": [
        "'''    \n",
        "describe what your code does here for this step:  \n",
        "\n",
        "according to the rule of the game, if we press a perticular square, the neighboring squres, those sharing sides with our particular square, switch thier state (from on to off OR from off to on, accordinaly). More generally, if the target square is i, then the affected ones are i + 3 (from below), i - 3 (from above), i + 1 (from right), and i - 1 (from left). Therefore, we will use CNOT gates.\n",
        "\n",
        "\n",
        "'''"
      ]
    },
    {
      "cell_type": "code",
      "metadata": {
        "id": "Z3WUEEg-HDU7"
      },
      "source": [
        "def switch_flip(qc, switch, bulb):\n",
        "    '''\n",
        "    Q4: We need to define a function for the first part of the oracle which translates what\n",
        "    flipping every switch does to the bulb-state\n",
        "       \n",
        "    describe what your code does here for this step:  \n",
        "'''\n",
        "#   flipping_possibabilities_dictionary = {0: [0, 1, 3], 1: [0, 1, 2, 4], 2: [1, 2, 5], 3: [0, 3, 4, 6], 4: [1, 3, 4, 5, 7],\n",
        "# 5: [2, 4, 5, 8], 6: [3, 6, 7], 7: [4, 6, 7, 8], 8: [5, 7, 8]}\n",
        "    \n",
        "    # press 0, then \n",
        "    qc.cx(switch[0], bulb[0])\n",
        "    qc.cx(switch[0], bulb[1])\n",
        "    qc.cx(switch[0], bulb[3])\n",
        "    \n",
        "    # press 1, then \n",
        "    qc.cx(switch[1], bulb[0])\n",
        "    qc.cx(switch[1], bulb[1])\n",
        "    qc.cx(switch[1], bulb[2])\n",
        "    qc.cx(switch[1], bulb[4])\n",
        "    \n",
        "    # press 2, then\n",
        "    qc.cx(switch[2], bulb[1])\n",
        "    qc.cx(switch[2], bulb[2])\n",
        "    qc.cx(switch[2], bulb[5])\n",
        "    \n",
        "    # press 3, then \n",
        "    qc.cx(switch[3], bulb[0])\n",
        "    qc.cx(switch[3], bulb[3])\n",
        "    qc.cx(switch[3], bulb[4])\n",
        "    qc.cx(switch[3], bulb[6])\n",
        "    \n",
        "    # press 4, then\n",
        "    qc.cx(switch[4], bulb[1])\n",
        "    qc.cx(switch[4], bulb[3])\n",
        "    qc.cx(switch[4], bulb[4])\n",
        "    qc.cx(switch[4], bulb[5])\n",
        "    qc.cx(switch[4], bulb[7])\n",
        "    \n",
        "    # press 5, then \n",
        "    qc.cx(switch[5], bulb[2])\n",
        "    qc.cx(switch[5], bulb[4])\n",
        "    qc.cx(switch[5], bulb[5])\n",
        "    qc.cx(switch[5], bulb[8])\n",
        "    \n",
        "    # press 6, then\n",
        "    qc.cx(switch[6], bulb[3])\n",
        "    qc.cx(switch[6], bulb[6])\n",
        "    qc.cx(switch[6], bulb[7])\n",
        "    \n",
        "    # press 7, then\n",
        "    qc.cx(switch[7], bulb[4])\n",
        "    qc.cx(switch[7], bulb[6])\n",
        "    qc.cx(switch[7], bulb[7])\n",
        "    qc.cx(switch[7], bulb[8])\n",
        "    \n",
        "    # press 8, then\n",
        "    qc.cx(switch[8], bulb[5])\n",
        "    qc.cx(switch[8], bulb[7])\n",
        "    qc.cx(switch[8], bulb[8])\n",
        "   \n",
        "  "
      ],
      "execution_count": 94,
      "outputs": []
    },
    {
      "cell_type": "markdown",
      "metadata": {
        "id": "gcGQObH5HDU8"
      },
      "source": [
        "### Part 2 of the Oracle, then combining steps C, D & E into a function which constructs the second part of the Oracle, the Diffuser & obtain the completed Grover-Circuit over the appropriate number of iterations:"
      ]
    },
    {
      "cell_type": "markdown",
      "metadata": {
        "id": "C6DFjWH-HDU8"
      },
      "source": [
        "#### Q5a: Complete the for loop below which runs our predetermined iterations of Grover.\n",
        "-applies the first part of the oracle (by calling a function)  \n",
        "-applies the second part of the oracle to check for the winner switch-state (Hint: a known gate can do this)  \n",
        "-uncomputes (you should know what that is)  \n",
        "-applies an appropriate diffuser  \n",
        "\n",
        "#### Q5b: finally measure the output\n",
        "Measure the switch-states from which we can infer the most probable answer.\n",
        "\n",
        "NB:  you can use the \"qc.reverse_bits()\" function on a \"qc\"-quantum circuit object to reverse the order of the bits to avoid Qiskit's annoying convention."
      ]
    },
    {
      "cell_type": "markdown",
      "metadata": {
        "id": "aE8rXxt6HDU9"
      },
      "source": [
        "'''    \n",
        "describe what your code does here for these two steps:  \n",
        "\n",
        "simple the code maps the lights out problem to a quantum circicut that can mark the solution  \n",
        "\n",
        "\n",
        "'''"
      ]
    },
    {
      "cell_type": "code",
      "metadata": {
        "id": "eMKWw1vLHDU9",
        "colab": {
          "base_uri": "https://localhost:8080/",
          "height": 1000
        },
        "outputId": "6e83bdf6-950b-49d4-ad80-ad4142930043"
      },
      "source": [
        "initialize(lights, qc, bulb)\n",
        "\n",
        "for i in range(iterations):\n",
        "    '''Q5a:'''\n",
        "    '''The Oracle'''\n",
        "\n",
        "switch_flip(qc, switch, bulb)\n",
        "qc.x(bulb[:])\n",
        "qc.mct(bulb[:], output[0])\n",
        "qc.x(bulb[:])\n",
        "switch_flip(qc, switch, bulb) #luckily the flip gate is its inverse\n",
        "    \n",
        "    \n",
        "# diffuser       \n",
        "qc.h(switch)\n",
        "qc.x(switch)\n",
        "qc.h(switch[8])\n",
        "qc.mct(switch[0:8], switch[8])\n",
        "qc.h(switch[8])\n",
        "qc.x(switch)\n",
        "qc.h(switch)\n",
        "\n",
        "#uncompute oracle\n",
        "qc.h(output[0])\n",
        "qc.x(output[0])   \n",
        "  \n",
        "\n",
        "# Measure:\n",
        "#Q5b:\n",
        "    \n",
        "qc.measure(switch, result)\n",
        "\n",
        "qc = qc.reverse_bits()  #in order to restore the output's order as the input's\n",
        "\n",
        "qc.draw()"
      ],
      "execution_count": 95,
      "outputs": [
        {
          "output_type": "execute_result",
          "data": {
            "text/html": [
              "<pre style=\"word-wrap: normal;white-space: pre;background: #fff0;line-height: 1.1;font-family: &quot;Courier New&quot;,Courier,monospace\">     ┌───┐┌───┐                                                            »\n",
              "o_0: ┤ X ├┤ H ├────────────────────────────────────────────────────────────»\n",
              "     └───┘└───┘                                                            »\n",
              "b_0: ──────────────────────────────────────────────────────────────────────»\n",
              "                                                                           »\n",
              "b_1: ──────────────────────────────────────────────────────────────────────»\n",
              "     ┌───┐                                                                 »\n",
              "b_2: ┤ X ├─────────────────────────────────────────────────────────────────»\n",
              "     ├───┤                                                                 »\n",
              "b_3: ┤ X ├─────────────────────────────────────────────────────────────────»\n",
              "     └───┘                                                  ┌───┐          »\n",
              "b_4: ───────────────────────────────────────────────────────┤ X ├──────────»\n",
              "                         ┌───┐                    ┌───┐     └─┬─┘          »\n",
              "b_5: ────────────────────┤ X ├────────────────────┤ X ├───────┼────────────»\n",
              "     ┌───┐               └─┬─┘          ┌───┐     └─┬─┘       │  ┌───┐     »\n",
              "b_6: ┤ X ├─────────────────┼────────────┤ X ├───────┼─────────┼──┤ X ├─────»\n",
              "     ├───┤     ┌───┐       │  ┌───┐     └─┬─┘┌───┐  │         │  └─┬─┘┌───┐»\n",
              "b_7: ┤ X ├─────┤ X ├───────┼──┤ X ├───────┼──┤ X ├──┼─────────┼────┼──┤ X ├»\n",
              "     └───┘┌───┐└─┬─┘┌───┐  │  └─┬─┘┌───┐  │  └─┬─┘  │  ┌───┐  │    │  └─┬─┘»\n",
              "b_8: ─────┤ X ├──┼──┤ X ├──┼────┼──┤ X ├──┼────┼────┼──┤ X ├──┼────┼────┼──»\n",
              "     ┌───┐└─┬─┘  │  └─┬─┘  │    │  └─┬─┘  │    │    │  └───┘  │    │    │  »\n",
              "s_0: ┤ H ├──┼────┼────┼────┼────┼────┼────┼────┼────┼─────────┼────┼────┼──»\n",
              "     ├───┤  │    │    │    │    │    │    │    │    │         │    │    │  »\n",
              "s_1: ┤ H ├──┼────┼────┼────┼────┼────┼────┼────┼────┼─────────┼────┼────┼──»\n",
              "     ├───┤  │    │    │    │    │    │    │    │    │         │    │    │  »\n",
              "s_2: ┤ H ├──┼────┼────┼────┼────┼────┼────┼────┼────┼─────────┼────┼────┼──»\n",
              "     ├───┤  │    │    │    │    │    │    │    │    │         │    │    │  »\n",
              "s_3: ┤ H ├──┼────┼────┼────┼────┼────┼────┼────┼────┼─────────┼────┼────┼──»\n",
              "     ├───┤  │    │    │    │    │    │    │    │    │         │    │    │  »\n",
              "s_4: ┤ H ├──┼────┼────┼────┼────┼────┼────┼────┼────┼─────────┼────┼────■──»\n",
              "     ├───┤  │    │    │    │    │    │    │    │    │         │    │       »\n",
              "s_5: ┤ H ├──┼────┼────┼────┼────┼────■────┼────┼────■─────────┼────┼───────»\n",
              "     ├───┤  │    │    │    │    │         │    │              │    │       »\n",
              "s_6: ┤ H ├──┼────┼────┼────┼────┼─────────┼────■──────────────┼────■───────»\n",
              "     ├───┤  │    │    │    │    │         │                   │            »\n",
              "s_7: ┤ H ├──┼────┼────■────┼────■─────────■───────────────────■────────────»\n",
              "     ├───┤  │    │         │                                               »\n",
              "s_8: ┤ H ├──■────■─────────■───────────────────────────────────────────────»\n",
              "     └───┘                                                                 »\n",
              "r: 9/══════════════════════════════════════════════════════════════════════»\n",
              "                                                                           »\n",
              "«                                                                           »\n",
              "«o_0: ──────────────────────────────────────────────────────────────────────»\n",
              "«                                                                           »\n",
              "«b_0: ──────────────────────────────────────────────────────────────────────»\n",
              "«                                                                 ┌───┐     »\n",
              "«b_1: ────────────────────────────────────────────────────────────┤ X ├─────»\n",
              "«                              ┌───┐                    ┌───┐     └─┬─┘     »\n",
              "«b_2: ─────────────────────────┤ X ├────────────────────┤ X ├───────┼───────»\n",
              "«     ┌───┐                    └─┬─┘          ┌───┐     └─┬─┘       │  ┌───┐»\n",
              "«b_3: ┤ X ├──────────────────────┼────────────┤ X ├───────┼─────────┼──┤ X ├»\n",
              "«     └─┬─┘┌───┐                 │  ┌───┐     └─┬─┘┌───┐  │         │  └─┬─┘»\n",
              "«b_4: ──┼──┤ X ├─────────────────┼──┤ X ├───────┼──┤ X ├──┼─────────┼────┼──»\n",
              "«       │  └─┬─┘┌───┐            │  └─┬─┘┌───┐  │  └─┬─┘  │  ┌───┐  │    │  »\n",
              "«b_5: ──┼────┼──┤ X ├────────────┼────┼──┤ X ├──┼────┼────┼──┤ X ├──┼────┼──»\n",
              "«       │    │  └─┬─┘┌───┐┌───┐  │    │  └─┬─┘  │    │    │  └───┘  │    │  »\n",
              "«b_6: ──┼────┼────┼──┤ X ├┤ X ├──┼────┼────┼────┼────┼────┼─────────┼────┼──»\n",
              "«       │    │    │  └─┬─┘├───┤  │    │    │    │    │    │         │    │  »\n",
              "«b_7: ──┼────┼────┼────┼──┤ X ├──┼────┼────┼────┼────┼────┼─────────┼────┼──»\n",
              "«       │    │    │    │  └───┘  │    │    │    │    │    │         │    │  »\n",
              "«b_8: ──┼────┼────┼────┼─────────┼────┼────┼────┼────┼────┼─────────┼────┼──»\n",
              "«       │    │    │    │         │    │    │    │    │    │         │    │  »\n",
              "«s_0: ──┼────┼────┼────┼─────────┼────┼────┼────┼────┼────┼─────────┼────┼──»\n",
              "«       │    │    │    │         │    │    │    │    │    │         │    │  »\n",
              "«s_1: ──┼────┼────┼────┼─────────┼────┼────┼────┼────┼────┼─────────┼────┼──»\n",
              "«       │    │    │    │         │    │    │    │    │    │         │    │  »\n",
              "«s_2: ──┼────┼────┼────┼─────────┼────┼────■────┼────┼────■─────────┼────┼──»\n",
              "«       │    │    │    │         │    │         │    │              │    │  »\n",
              "«s_3: ──┼────┼────┼────■─────────┼────┼─────────┼────■──────────────┼────■──»\n",
              "«       │    │    │              │    │         │                   │       »\n",
              "«s_4: ──┼────┼────■──────────────┼────■─────────■───────────────────■───────»\n",
              "«       │    │                   │                                          »\n",
              "«s_5: ──┼────■───────────────────■──────────────────────────────────────────»\n",
              "«       │                                                                   »\n",
              "«s_6: ──■───────────────────────────────────────────────────────────────────»\n",
              "«                                                                           »\n",
              "«s_7: ──────────────────────────────────────────────────────────────────────»\n",
              "«                                                                           »\n",
              "«s_8: ──────────────────────────────────────────────────────────────────────»\n",
              "«                                                                           »\n",
              "«r: 9/══════════════════════════════════════════════════════════════════════»\n",
              "«                                                                           »\n",
              "«                                                            ┌───┐┌───┐┌───┐»\n",
              "«o_0: ───────────────────────────────────────────────────────┤ X ├┤ H ├┤ X ├»\n",
              "«          ┌───┐                         ┌───┐     ┌───┐┌───┐└─┬─┘├───┤└───┘»\n",
              "«b_0: ─────┤ X ├─────────────────────────┤ X ├─────┤ X ├┤ X ├──■──┤ X ├─────»\n",
              "«          └─┬─┘┌───┐               ┌───┐└─┬─┘┌───┐└─┬─┘├───┤  │  ├───┤     »\n",
              "«b_1: ───────┼──┤ X ├───────────────┤ X ├──┼──┤ X ├──┼──┤ X ├──■──┤ X ├─────»\n",
              "«            │  └─┬─┘┌───┐┌───┐     └─┬─┘  │  └─┬─┘  │  └───┘  │  ├───┤     »\n",
              "«b_2: ───────┼────┼──┤ X ├┤ X ├───────┼────┼────┼────┼─────────■──┤ X ├─────»\n",
              "«            │    │  └─┬─┘├───┤┌───┐  │    │    │    │         │  ├───┤     »\n",
              "«b_3: ───────┼────┼────┼──┤ X ├┤ X ├──┼────┼────┼────┼─────────■──┤ X ├─────»\n",
              "«     ┌───┐  │    │    │  └─┬─┘├───┤  │    │    │    │         │  ├───┤     »\n",
              "«b_4: ┤ X ├──┼────┼────┼────┼──┤ X ├──┼────┼────┼────┼─────────■──┤ X ├─────»\n",
              "«     └─┬─┘  │    │    │    │  └───┘  │    │    │    │         │  ├───┤     »\n",
              "«b_5: ──┼────┼────┼────┼────┼─────────┼────┼────┼────┼─────────■──┤ X ├─────»\n",
              "«       │    │    │    │    │         │    │    │    │         │  ├───┤     »\n",
              "«b_6: ──┼────┼────┼────┼────┼─────────┼────┼────┼────┼─────────■──┤ X ├─────»\n",
              "«       │    │    │    │    │         │    │    │    │         │  ├───┤     »\n",
              "«b_7: ──┼────┼────┼────┼────┼─────────┼────┼────┼────┼─────────■──┤ X ├─────»\n",
              "«       │    │    │    │    │         │    │    │    │         │  ├───┤┌───┐»\n",
              "«b_8: ──┼────┼────┼────┼────┼─────────┼────┼────┼────┼─────────■──┤ X ├┤ X ├»\n",
              "«       │    │    │    │    │         │    │    │    │            └───┘└─┬─┘»\n",
              "«s_0: ──┼────┼────┼────┼────■─────────┼────┼────■────■───────────────────┼──»\n",
              "«       │    │    │    │              │    │                             │  »\n",
              "«s_1: ──■────┼────┼────■──────────────■────■─────────────────────────────┼──»\n",
              "«            │    │                                                      │  »\n",
              "«s_2: ───────┼────■──────────────────────────────────────────────────────┼──»\n",
              "«            │                                                           │  »\n",
              "«s_3: ───────■───────────────────────────────────────────────────────────┼──»\n",
              "«                                                                        │  »\n",
              "«s_4: ───────────────────────────────────────────────────────────────────┼──»\n",
              "«                                                                        │  »\n",
              "«s_5: ───────────────────────────────────────────────────────────────────┼──»\n",
              "«                                                                        │  »\n",
              "«s_6: ───────────────────────────────────────────────────────────────────┼──»\n",
              "«                                                                        │  »\n",
              "«s_7: ───────────────────────────────────────────────────────────────────┼──»\n",
              "«                                                                        │  »\n",
              "«s_8: ───────────────────────────────────────────────────────────────────■──»\n",
              "«                                                                           »\n",
              "«r: 9/══════════════════════════════════════════════════════════════════════»\n",
              "«                                                                           »\n",
              "«                                                                           »\n",
              "«o_0: ──────────────────────────────────────────────────────────────────────»\n",
              "«                                                                           »\n",
              "«b_0: ──────────────────────────────────────────────────────────────────────»\n",
              "«                                                                           »\n",
              "«b_1: ──────────────────────────────────────────────────────────────────────»\n",
              "«                                                                           »\n",
              "«b_2: ──────────────────────────────────────────────────────────────────────»\n",
              "«                                                            ┌───┐          »\n",
              "«b_3: ───────────────────────────────────────────────────────┤ X ├──────────»\n",
              "«                                             ┌───┐          └─┬─┘┌───┐     »\n",
              "«b_4: ────────────────────────────────────────┤ X ├────────────┼──┤ X ├─────»\n",
              "«               ┌───┐                    ┌───┐└─┬─┘            │  └─┬─┘┌───┐»\n",
              "«b_5: ──────────┤ X ├────────────────────┤ X ├──┼──────────────┼────┼──┤ X ├»\n",
              "«               └─┬─┘          ┌───┐     └─┬─┘  │  ┌───┐       │    │  └─┬─┘»\n",
              "«b_6: ────────────┼────────────┤ X ├───────┼────┼──┤ X ├───────┼────┼────┼──»\n",
              "«     ┌───┐       │  ┌───┐     └─┬─┘┌───┐  │    │  └─┬─┘┌───┐  │    │    │  »\n",
              "«b_7: ┤ X ├───────┼──┤ X ├───────┼──┤ X ├──┼────┼────┼──┤ X ├──┼────┼────┼──»\n",
              "«     └─┬─┘┌───┐  │  └─┬─┘┌───┐  │  └─┬─┘  │    │    │  └─┬─┘  │    │    │  »\n",
              "«b_8: ──┼──┤ X ├──┼────┼──┤ X ├──┼────┼────┼────┼────┼────┼────┼────┼────┼──»\n",
              "«       │  └─┬─┘  │    │  └─┬─┘  │    │    │    │    │    │    │    │    │  »\n",
              "«s_0: ──┼────┼────┼────┼────┼────┼────┼────┼────┼────┼────┼────┼────┼────┼──»\n",
              "«       │    │    │    │    │    │    │    │    │    │    │    │    │    │  »\n",
              "«s_1: ──┼────┼────┼────┼────┼────┼────┼────┼────┼────┼────┼────┼────┼────┼──»\n",
              "«       │    │    │    │    │    │    │    │    │    │    │    │    │    │  »\n",
              "«s_2: ──┼────┼────┼────┼────┼────┼────┼────┼────┼────┼────┼────┼────┼────┼──»\n",
              "«       │    │    │    │    │    │    │    │    │    │    │    │    │    │  »\n",
              "«s_3: ──┼────┼────┼────┼────┼────┼────┼────┼────┼────┼────┼────┼────┼────┼──»\n",
              "«       │    │    │    │    │    │    │    │    │    │    │    │    │    │  »\n",
              "«s_4: ──┼────┼────┼────┼────┼────┼────┼────┼────┼────┼────■────┼────┼────■──»\n",
              "«       │    │    │    │    │    │    │    │    │    │         │    │       »\n",
              "«s_5: ──┼────┼────┼────┼────■────┼────┼────■────┼────┼─────────┼────■───────»\n",
              "«       │    │    │    │         │    │         │    │         │  ┌───┐┌───┐»\n",
              "«s_6: ──┼────┼────┼────┼─────────┼────■─────────┼────■─────────■──┤ H ├┤ X ├»\n",
              "«       │    │    │    │         │              │  ┌───┐┌───┐     └───┘└───┘»\n",
              "«s_7: ──┼────■────┼────■─────────■──────────────■──┤ H ├┤ X ├───────────────»\n",
              "«       │         │  ┌───┐┌───┐                    └───┘└───┘               »\n",
              "«s_8: ──■─────────■──┤ H ├┤ X ├─────────────────────────────────────────────»\n",
              "«                    └───┘└───┘                                             »\n",
              "«r: 9/══════════════════════════════════════════════════════════════════════»\n",
              "«                                                                           »\n",
              "«                                                                           »\n",
              "«o_0: ──────────────────────────────────────────────────────────────────────»\n",
              "«                                                       ┌───┐               »\n",
              "«b_0: ──────────────────────────────────────────────────┤ X ├───────────────»\n",
              "«                                        ┌───┐          └─┬─┘┌───┐          »\n",
              "«b_1: ───────────────────────────────────┤ X ├────────────┼──┤ X ├──────────»\n",
              "«          ┌───┐                    ┌───┐└─┬─┘            │  └─┬─┘┌───┐     »\n",
              "«b_2: ─────┤ X ├────────────────────┤ X ├──┼──────────────┼────┼──┤ X ├─────»\n",
              "«          └─┬─┘          ┌───┐     └─┬─┘  │  ┌───┐       │    │  └─┬─┘┌───┐»\n",
              "«b_3: ───────┼────────────┤ X ├───────┼────┼──┤ X ├───────┼────┼────┼──┤ X ├»\n",
              "«            │  ┌───┐     └─┬─┘┌───┐  │    │  └─┬─┘┌───┐  │    │    │  └─┬─┘»\n",
              "«b_4: ───────┼──┤ X ├───────┼──┤ X ├──┼────┼────┼──┤ X ├──┼────┼────┼────┼──»\n",
              "«            │  └─┬─┘┌───┐  │  └─┬─┘  │    │    │  └─┬─┘  │    │    │    │  »\n",
              "«b_5: ───────┼────┼──┤ X ├──┼────┼────┼────┼────┼────┼────┼────┼────┼────┼──»\n",
              "«     ┌───┐  │    │  └─┬─┘  │    │    │    │    │    │    │    │    │    │  »\n",
              "«b_6: ┤ X ├──┼────┼────┼────┼────┼────┼────┼────┼────┼────┼────┼────┼────┼──»\n",
              "«     └─┬─┘  │    │    │    │    │    │    │    │    │    │    │    │    │  »\n",
              "«b_7: ──┼────┼────┼────┼────┼────┼────┼────┼────┼────┼────┼────┼────┼────┼──»\n",
              "«       │    │    │    │    │    │    │    │    │    │    │    │    │    │  »\n",
              "«b_8: ──┼────┼────┼────┼────┼────┼────┼────┼────┼────┼────┼────┼────┼────┼──»\n",
              "«       │    │    │    │    │    │    │    │    │    │    │    │    │    │  »\n",
              "«s_0: ──┼────┼────┼────┼────┼────┼────┼────┼────┼────┼────┼────┼────┼────■──»\n",
              "«       │    │    │    │    │    │    │    │    │    │    │    │    │       »\n",
              "«s_1: ──┼────┼────┼────┼────┼────┼────┼────┼────┼────■────┼────┼────■───────»\n",
              "«       │    │    │    │    │    │    │    │    │         │    │  ┌───┐┌───┐»\n",
              "«s_2: ──┼────┼────┼────■────┼────┼────■────┼────┼─────────┼────■──┤ H ├┤ X ├»\n",
              "«       │    │    │         │    │         │    │         │  ┌───┐├───┤└───┘»\n",
              "«s_3: ──■────┼────┼─────────┼────■─────────┼────■─────────■──┤ H ├┤ X ├─────»\n",
              "«            │    │         │              │  ┌───┐┌───┐     └───┘└───┘     »\n",
              "«s_4: ───────┼────■─────────■──────────────■──┤ H ├┤ X ├────────────────────»\n",
              "«            │  ┌───┐┌───┐                    └───┘└───┘                    »\n",
              "«s_5: ───────■──┤ H ├┤ X ├──────────────────────────────────────────────────»\n",
              "«               └───┘└───┘                                                  »\n",
              "«s_6: ──────────────────────────────────────────────────────────────────────»\n",
              "«                                                                           »\n",
              "«s_7: ──────────────────────────────────────────────────────────────────────»\n",
              "«                                                                           »\n",
              "«s_8: ──────────────────────────────────────────────────────────────────────»\n",
              "«                                                                           »\n",
              "«r: 9/══════════════════════════════════════════════════════════════════════»\n",
              "«                                                                           »\n",
              "«                                                                              »\n",
              "«o_0: ─────────────────────────────────────────────────────────────────────────»\n",
              "«          ┌───┐     ┌───┐                                                     »\n",
              "«b_0: ─────┤ X ├─────┤ X ├─────────────────────────────────────────────────────»\n",
              "«     ┌───┐└─┬─┘┌───┐└─┬─┘                                                     »\n",
              "«b_1: ┤ X ├──┼──┤ X ├──┼───────────────────────────────────────────────────────»\n",
              "«     └─┬─┘  │  └─┬─┘  │                                                       »\n",
              "«b_2: ──┼────┼────┼────┼───────────────────────────────────────────────────────»\n",
              "«       │    │    │    │                                                       »\n",
              "«b_3: ──┼────┼────┼────┼───────────────────────────────────────────────────────»\n",
              "«       │    │    │    │                                                       »\n",
              "«b_4: ──┼────┼────┼────┼───────────────────────────────────────────────────────»\n",
              "«       │    │    │    │                                                       »\n",
              "«b_5: ──┼────┼────┼────┼───────────────────────────────────────────────────────»\n",
              "«       │    │    │    │                                                       »\n",
              "«b_6: ──┼────┼────┼────┼───────────────────────────────────────────────────────»\n",
              "«       │    │    │    │                                                       »\n",
              "«b_7: ──┼────┼────┼────┼───────────────────────────────────────────────────────»\n",
              "«       │    │    │    │                                                       »\n",
              "«b_8: ──┼────┼────┼────┼───────────────────────────────────────────────────────»\n",
              "«       │    │    │    │  ┌───┐┌───┐┌───┐┌───┐┌───┐┌───┐┌───┐                  »\n",
              "«s_0: ──┼────┼────■────■──┤ H ├┤ X ├┤ H ├┤ X ├┤ H ├┤ X ├┤ H ├──────────────────»\n",
              "«       │    │  ┌───┐┌───┐└───┘└───┘└───┘└─┬─┘├───┤├───┤└───┘                  »\n",
              "«s_1: ──■────■──┤ H ├┤ X ├─────────────────■──┤ X ├┤ H ├───────────────────────»\n",
              "«               └───┘└───┘                 │  ├───┤├───┤                    ┌─┐»\n",
              "«s_2: ─────────────────────────────────────■──┤ X ├┤ H ├────────────────────┤M├»\n",
              "«                                          │  ├───┤├───┤                 ┌─┐└╥┘»\n",
              "«s_3: ─────────────────────────────────────■──┤ X ├┤ H ├─────────────────┤M├─╫─»\n",
              "«                                          │  ├───┤├───┤              ┌─┐└╥┘ ║ »\n",
              "«s_4: ─────────────────────────────────────■──┤ X ├┤ H ├──────────────┤M├─╫──╫─»\n",
              "«                                          │  ├───┤├───┤           ┌─┐└╥┘ ║  ║ »\n",
              "«s_5: ─────────────────────────────────────■──┤ X ├┤ H ├───────────┤M├─╫──╫──╫─»\n",
              "«                                          │  ├───┤├───┤        ┌─┐└╥┘ ║  ║  ║ »\n",
              "«s_6: ─────────────────────────────────────■──┤ X ├┤ H ├────────┤M├─╫──╫──╫──╫─»\n",
              "«                                          │  ├───┤├───┤     ┌─┐└╥┘ ║  ║  ║  ║ »\n",
              "«s_7: ─────────────────────────────────────■──┤ X ├┤ H ├─────┤M├─╫──╫──╫──╫──╫─»\n",
              "«                                          │  ├───┤├───┤ ┌─┐ └╥┘ ║  ║  ║  ║  ║ »\n",
              "«s_8: ─────────────────────────────────────■──┤ X ├┤ H ├─┤M├──╫──╫──╫──╫──╫──╫─»\n",
              "«                                             └───┘└───┘ └╥┘  ║  ║  ║  ║  ║  ║ »\n",
              "«r: 9/════════════════════════════════════════════════════╩═══╩══╩══╩══╩══╩══╩═»\n",
              "«                                                         8   7  6  5  4  3  2 »\n",
              "«           \n",
              "«o_0: ──────\n",
              "«           \n",
              "«b_0: ──────\n",
              "«           \n",
              "«b_1: ──────\n",
              "«           \n",
              "«b_2: ──────\n",
              "«           \n",
              "«b_3: ──────\n",
              "«           \n",
              "«b_4: ──────\n",
              "«           \n",
              "«b_5: ──────\n",
              "«           \n",
              "«b_6: ──────\n",
              "«           \n",
              "«b_7: ──────\n",
              "«           \n",
              "«b_8: ──────\n",
              "«        ┌─┐\n",
              "«s_0: ───┤M├\n",
              "«     ┌─┐└╥┘\n",
              "«s_1: ┤M├─╫─\n",
              "«     └╥┘ ║ \n",
              "«s_2: ─╫──╫─\n",
              "«      ║  ║ \n",
              "«s_3: ─╫──╫─\n",
              "«      ║  ║ \n",
              "«s_4: ─╫──╫─\n",
              "«      ║  ║ \n",
              "«s_5: ─╫──╫─\n",
              "«      ║  ║ \n",
              "«s_6: ─╫──╫─\n",
              "«      ║  ║ \n",
              "«s_7: ─╫──╫─\n",
              "«      ║  ║ \n",
              "«s_8: ─╫──╫─\n",
              "«      ║  ║ \n",
              "«r: 9/═╩══╩═\n",
              "«      1  0 </pre>"
            ],
            "text/plain": [
              "     ┌───┐┌───┐                                                            »\n",
              "o_0: ┤ X ├┤ H ├────────────────────────────────────────────────────────────»\n",
              "     └───┘└───┘                                                            »\n",
              "b_0: ──────────────────────────────────────────────────────────────────────»\n",
              "                                                                           »\n",
              "b_1: ──────────────────────────────────────────────────────────────────────»\n",
              "     ┌───┐                                                                 »\n",
              "b_2: ┤ X ├─────────────────────────────────────────────────────────────────»\n",
              "     ├───┤                                                                 »\n",
              "b_3: ┤ X ├─────────────────────────────────────────────────────────────────»\n",
              "     └───┘                                                  ┌───┐          »\n",
              "b_4: ───────────────────────────────────────────────────────┤ X ├──────────»\n",
              "                         ┌───┐                    ┌───┐     └─┬─┘          »\n",
              "b_5: ────────────────────┤ X ├────────────────────┤ X ├───────┼────────────»\n",
              "     ┌───┐               └─┬─┘          ┌───┐     └─┬─┘       │  ┌───┐     »\n",
              "b_6: ┤ X ├─────────────────┼────────────┤ X ├───────┼─────────┼──┤ X ├─────»\n",
              "     ├───┤     ┌───┐       │  ┌───┐     └─┬─┘┌───┐  │         │  └─┬─┘┌───┐»\n",
              "b_7: ┤ X ├─────┤ X ├───────┼──┤ X ├───────┼──┤ X ├──┼─────────┼────┼──┤ X ├»\n",
              "     └───┘┌───┐└─┬─┘┌───┐  │  └─┬─┘┌───┐  │  └─┬─┘  │  ┌───┐  │    │  └─┬─┘»\n",
              "b_8: ─────┤ X ├──┼──┤ X ├──┼────┼──┤ X ├──┼────┼────┼──┤ X ├──┼────┼────┼──»\n",
              "     ┌───┐└─┬─┘  │  └─┬─┘  │    │  └─┬─┘  │    │    │  └───┘  │    │    │  »\n",
              "s_0: ┤ H ├──┼────┼────┼────┼────┼────┼────┼────┼────┼─────────┼────┼────┼──»\n",
              "     ├───┤  │    │    │    │    │    │    │    │    │         │    │    │  »\n",
              "s_1: ┤ H ├──┼────┼────┼────┼────┼────┼────┼────┼────┼─────────┼────┼────┼──»\n",
              "     ├───┤  │    │    │    │    │    │    │    │    │         │    │    │  »\n",
              "s_2: ┤ H ├──┼────┼────┼────┼────┼────┼────┼────┼────┼─────────┼────┼────┼──»\n",
              "     ├───┤  │    │    │    │    │    │    │    │    │         │    │    │  »\n",
              "s_3: ┤ H ├──┼────┼────┼────┼────┼────┼────┼────┼────┼─────────┼────┼────┼──»\n",
              "     ├───┤  │    │    │    │    │    │    │    │    │         │    │    │  »\n",
              "s_4: ┤ H ├──┼────┼────┼────┼────┼────┼────┼────┼────┼─────────┼────┼────■──»\n",
              "     ├───┤  │    │    │    │    │    │    │    │    │         │    │       »\n",
              "s_5: ┤ H ├──┼────┼────┼────┼────┼────■────┼────┼────■─────────┼────┼───────»\n",
              "     ├───┤  │    │    │    │    │         │    │              │    │       »\n",
              "s_6: ┤ H ├──┼────┼────┼────┼────┼─────────┼────■──────────────┼────■───────»\n",
              "     ├───┤  │    │    │    │    │         │                   │            »\n",
              "s_7: ┤ H ├──┼────┼────■────┼────■─────────■───────────────────■────────────»\n",
              "     ├───┤  │    │         │                                               »\n",
              "s_8: ┤ H ├──■────■─────────■───────────────────────────────────────────────»\n",
              "     └───┘                                                                 »\n",
              "r: 9/══════════════════════════════════════════════════════════════════════»\n",
              "                                                                           »\n",
              "«                                                                           »\n",
              "«o_0: ──────────────────────────────────────────────────────────────────────»\n",
              "«                                                                           »\n",
              "«b_0: ──────────────────────────────────────────────────────────────────────»\n",
              "«                                                                 ┌───┐     »\n",
              "«b_1: ────────────────────────────────────────────────────────────┤ X ├─────»\n",
              "«                              ┌───┐                    ┌───┐     └─┬─┘     »\n",
              "«b_2: ─────────────────────────┤ X ├────────────────────┤ X ├───────┼───────»\n",
              "«     ┌───┐                    └─┬─┘          ┌───┐     └─┬─┘       │  ┌───┐»\n",
              "«b_3: ┤ X ├──────────────────────┼────────────┤ X ├───────┼─────────┼──┤ X ├»\n",
              "«     └─┬─┘┌───┐                 │  ┌───┐     └─┬─┘┌───┐  │         │  └─┬─┘»\n",
              "«b_4: ──┼──┤ X ├─────────────────┼──┤ X ├───────┼──┤ X ├──┼─────────┼────┼──»\n",
              "«       │  └─┬─┘┌───┐            │  └─┬─┘┌───┐  │  └─┬─┘  │  ┌───┐  │    │  »\n",
              "«b_5: ──┼────┼──┤ X ├────────────┼────┼──┤ X ├──┼────┼────┼──┤ X ├──┼────┼──»\n",
              "«       │    │  └─┬─┘┌───┐┌───┐  │    │  └─┬─┘  │    │    │  └───┘  │    │  »\n",
              "«b_6: ──┼────┼────┼──┤ X ├┤ X ├──┼────┼────┼────┼────┼────┼─────────┼────┼──»\n",
              "«       │    │    │  └─┬─┘├───┤  │    │    │    │    │    │         │    │  »\n",
              "«b_7: ──┼────┼────┼────┼──┤ X ├──┼────┼────┼────┼────┼────┼─────────┼────┼──»\n",
              "«       │    │    │    │  └───┘  │    │    │    │    │    │         │    │  »\n",
              "«b_8: ──┼────┼────┼────┼─────────┼────┼────┼────┼────┼────┼─────────┼────┼──»\n",
              "«       │    │    │    │         │    │    │    │    │    │         │    │  »\n",
              "«s_0: ──┼────┼────┼────┼─────────┼────┼────┼────┼────┼────┼─────────┼────┼──»\n",
              "«       │    │    │    │         │    │    │    │    │    │         │    │  »\n",
              "«s_1: ──┼────┼────┼────┼─────────┼────┼────┼────┼────┼────┼─────────┼────┼──»\n",
              "«       │    │    │    │         │    │    │    │    │    │         │    │  »\n",
              "«s_2: ──┼────┼────┼────┼─────────┼────┼────■────┼────┼────■─────────┼────┼──»\n",
              "«       │    │    │    │         │    │         │    │              │    │  »\n",
              "«s_3: ──┼────┼────┼────■─────────┼────┼─────────┼────■──────────────┼────■──»\n",
              "«       │    │    │              │    │         │                   │       »\n",
              "«s_4: ──┼────┼────■──────────────┼────■─────────■───────────────────■───────»\n",
              "«       │    │                   │                                          »\n",
              "«s_5: ──┼────■───────────────────■──────────────────────────────────────────»\n",
              "«       │                                                                   »\n",
              "«s_6: ──■───────────────────────────────────────────────────────────────────»\n",
              "«                                                                           »\n",
              "«s_7: ──────────────────────────────────────────────────────────────────────»\n",
              "«                                                                           »\n",
              "«s_8: ──────────────────────────────────────────────────────────────────────»\n",
              "«                                                                           »\n",
              "«r: 9/══════════════════════════════════════════════════════════════════════»\n",
              "«                                                                           »\n",
              "«                                                            ┌───┐┌───┐┌───┐»\n",
              "«o_0: ───────────────────────────────────────────────────────┤ X ├┤ H ├┤ X ├»\n",
              "«          ┌───┐                         ┌───┐     ┌───┐┌───┐└─┬─┘├───┤└───┘»\n",
              "«b_0: ─────┤ X ├─────────────────────────┤ X ├─────┤ X ├┤ X ├──■──┤ X ├─────»\n",
              "«          └─┬─┘┌───┐               ┌───┐└─┬─┘┌───┐└─┬─┘├───┤  │  ├───┤     »\n",
              "«b_1: ───────┼──┤ X ├───────────────┤ X ├──┼──┤ X ├──┼──┤ X ├──■──┤ X ├─────»\n",
              "«            │  └─┬─┘┌───┐┌───┐     └─┬─┘  │  └─┬─┘  │  └───┘  │  ├───┤     »\n",
              "«b_2: ───────┼────┼──┤ X ├┤ X ├───────┼────┼────┼────┼─────────■──┤ X ├─────»\n",
              "«            │    │  └─┬─┘├───┤┌───┐  │    │    │    │         │  ├───┤     »\n",
              "«b_3: ───────┼────┼────┼──┤ X ├┤ X ├──┼────┼────┼────┼─────────■──┤ X ├─────»\n",
              "«     ┌───┐  │    │    │  └─┬─┘├───┤  │    │    │    │         │  ├───┤     »\n",
              "«b_4: ┤ X ├──┼────┼────┼────┼──┤ X ├──┼────┼────┼────┼─────────■──┤ X ├─────»\n",
              "«     └─┬─┘  │    │    │    │  └───┘  │    │    │    │         │  ├───┤     »\n",
              "«b_5: ──┼────┼────┼────┼────┼─────────┼────┼────┼────┼─────────■──┤ X ├─────»\n",
              "«       │    │    │    │    │         │    │    │    │         │  ├───┤     »\n",
              "«b_6: ──┼────┼────┼────┼────┼─────────┼────┼────┼────┼─────────■──┤ X ├─────»\n",
              "«       │    │    │    │    │         │    │    │    │         │  ├───┤     »\n",
              "«b_7: ──┼────┼────┼────┼────┼─────────┼────┼────┼────┼─────────■──┤ X ├─────»\n",
              "«       │    │    │    │    │         │    │    │    │         │  ├───┤┌───┐»\n",
              "«b_8: ──┼────┼────┼────┼────┼─────────┼────┼────┼────┼─────────■──┤ X ├┤ X ├»\n",
              "«       │    │    │    │    │         │    │    │    │            └───┘└─┬─┘»\n",
              "«s_0: ──┼────┼────┼────┼────■─────────┼────┼────■────■───────────────────┼──»\n",
              "«       │    │    │    │              │    │                             │  »\n",
              "«s_1: ──■────┼────┼────■──────────────■────■─────────────────────────────┼──»\n",
              "«            │    │                                                      │  »\n",
              "«s_2: ───────┼────■──────────────────────────────────────────────────────┼──»\n",
              "«            │                                                           │  »\n",
              "«s_3: ───────■───────────────────────────────────────────────────────────┼──»\n",
              "«                                                                        │  »\n",
              "«s_4: ───────────────────────────────────────────────────────────────────┼──»\n",
              "«                                                                        │  »\n",
              "«s_5: ───────────────────────────────────────────────────────────────────┼──»\n",
              "«                                                                        │  »\n",
              "«s_6: ───────────────────────────────────────────────────────────────────┼──»\n",
              "«                                                                        │  »\n",
              "«s_7: ───────────────────────────────────────────────────────────────────┼──»\n",
              "«                                                                        │  »\n",
              "«s_8: ───────────────────────────────────────────────────────────────────■──»\n",
              "«                                                                           »\n",
              "«r: 9/══════════════════════════════════════════════════════════════════════»\n",
              "«                                                                           »\n",
              "«                                                                           »\n",
              "«o_0: ──────────────────────────────────────────────────────────────────────»\n",
              "«                                                                           »\n",
              "«b_0: ──────────────────────────────────────────────────────────────────────»\n",
              "«                                                                           »\n",
              "«b_1: ──────────────────────────────────────────────────────────────────────»\n",
              "«                                                                           »\n",
              "«b_2: ──────────────────────────────────────────────────────────────────────»\n",
              "«                                                            ┌───┐          »\n",
              "«b_3: ───────────────────────────────────────────────────────┤ X ├──────────»\n",
              "«                                             ┌───┐          └─┬─┘┌───┐     »\n",
              "«b_4: ────────────────────────────────────────┤ X ├────────────┼──┤ X ├─────»\n",
              "«               ┌───┐                    ┌───┐└─┬─┘            │  └─┬─┘┌───┐»\n",
              "«b_5: ──────────┤ X ├────────────────────┤ X ├──┼──────────────┼────┼──┤ X ├»\n",
              "«               └─┬─┘          ┌───┐     └─┬─┘  │  ┌───┐       │    │  └─┬─┘»\n",
              "«b_6: ────────────┼────────────┤ X ├───────┼────┼──┤ X ├───────┼────┼────┼──»\n",
              "«     ┌───┐       │  ┌───┐     └─┬─┘┌───┐  │    │  └─┬─┘┌───┐  │    │    │  »\n",
              "«b_7: ┤ X ├───────┼──┤ X ├───────┼──┤ X ├──┼────┼────┼──┤ X ├──┼────┼────┼──»\n",
              "«     └─┬─┘┌───┐  │  └─┬─┘┌───┐  │  └─┬─┘  │    │    │  └─┬─┘  │    │    │  »\n",
              "«b_8: ──┼──┤ X ├──┼────┼──┤ X ├──┼────┼────┼────┼────┼────┼────┼────┼────┼──»\n",
              "«       │  └─┬─┘  │    │  └─┬─┘  │    │    │    │    │    │    │    │    │  »\n",
              "«s_0: ──┼────┼────┼────┼────┼────┼────┼────┼────┼────┼────┼────┼────┼────┼──»\n",
              "«       │    │    │    │    │    │    │    │    │    │    │    │    │    │  »\n",
              "«s_1: ──┼────┼────┼────┼────┼────┼────┼────┼────┼────┼────┼────┼────┼────┼──»\n",
              "«       │    │    │    │    │    │    │    │    │    │    │    │    │    │  »\n",
              "«s_2: ──┼────┼────┼────┼────┼────┼────┼────┼────┼────┼────┼────┼────┼────┼──»\n",
              "«       │    │    │    │    │    │    │    │    │    │    │    │    │    │  »\n",
              "«s_3: ──┼────┼────┼────┼────┼────┼────┼────┼────┼────┼────┼────┼────┼────┼──»\n",
              "«       │    │    │    │    │    │    │    │    │    │    │    │    │    │  »\n",
              "«s_4: ──┼────┼────┼────┼────┼────┼────┼────┼────┼────┼────■────┼────┼────■──»\n",
              "«       │    │    │    │    │    │    │    │    │    │         │    │       »\n",
              "«s_5: ──┼────┼────┼────┼────■────┼────┼────■────┼────┼─────────┼────■───────»\n",
              "«       │    │    │    │         │    │         │    │         │  ┌───┐┌───┐»\n",
              "«s_6: ──┼────┼────┼────┼─────────┼────■─────────┼────■─────────■──┤ H ├┤ X ├»\n",
              "«       │    │    │    │         │              │  ┌───┐┌───┐     └───┘└───┘»\n",
              "«s_7: ──┼────■────┼────■─────────■──────────────■──┤ H ├┤ X ├───────────────»\n",
              "«       │         │  ┌───┐┌───┐                    └───┘└───┘               »\n",
              "«s_8: ──■─────────■──┤ H ├┤ X ├─────────────────────────────────────────────»\n",
              "«                    └───┘└───┘                                             »\n",
              "«r: 9/══════════════════════════════════════════════════════════════════════»\n",
              "«                                                                           »\n",
              "«                                                                           »\n",
              "«o_0: ──────────────────────────────────────────────────────────────────────»\n",
              "«                                                       ┌───┐               »\n",
              "«b_0: ──────────────────────────────────────────────────┤ X ├───────────────»\n",
              "«                                        ┌───┐          └─┬─┘┌───┐          »\n",
              "«b_1: ───────────────────────────────────┤ X ├────────────┼──┤ X ├──────────»\n",
              "«          ┌───┐                    ┌───┐└─┬─┘            │  └─┬─┘┌───┐     »\n",
              "«b_2: ─────┤ X ├────────────────────┤ X ├──┼──────────────┼────┼──┤ X ├─────»\n",
              "«          └─┬─┘          ┌───┐     └─┬─┘  │  ┌───┐       │    │  └─┬─┘┌───┐»\n",
              "«b_3: ───────┼────────────┤ X ├───────┼────┼──┤ X ├───────┼────┼────┼──┤ X ├»\n",
              "«            │  ┌───┐     └─┬─┘┌───┐  │    │  └─┬─┘┌───┐  │    │    │  └─┬─┘»\n",
              "«b_4: ───────┼──┤ X ├───────┼──┤ X ├──┼────┼────┼──┤ X ├──┼────┼────┼────┼──»\n",
              "«            │  └─┬─┘┌───┐  │  └─┬─┘  │    │    │  └─┬─┘  │    │    │    │  »\n",
              "«b_5: ───────┼────┼──┤ X ├──┼────┼────┼────┼────┼────┼────┼────┼────┼────┼──»\n",
              "«     ┌───┐  │    │  └─┬─┘  │    │    │    │    │    │    │    │    │    │  »\n",
              "«b_6: ┤ X ├──┼────┼────┼────┼────┼────┼────┼────┼────┼────┼────┼────┼────┼──»\n",
              "«     └─┬─┘  │    │    │    │    │    │    │    │    │    │    │    │    │  »\n",
              "«b_7: ──┼────┼────┼────┼────┼────┼────┼────┼────┼────┼────┼────┼────┼────┼──»\n",
              "«       │    │    │    │    │    │    │    │    │    │    │    │    │    │  »\n",
              "«b_8: ──┼────┼────┼────┼────┼────┼────┼────┼────┼────┼────┼────┼────┼────┼──»\n",
              "«       │    │    │    │    │    │    │    │    │    │    │    │    │    │  »\n",
              "«s_0: ──┼────┼────┼────┼────┼────┼────┼────┼────┼────┼────┼────┼────┼────■──»\n",
              "«       │    │    │    │    │    │    │    │    │    │    │    │    │       »\n",
              "«s_1: ──┼────┼────┼────┼────┼────┼────┼────┼────┼────■────┼────┼────■───────»\n",
              "«       │    │    │    │    │    │    │    │    │         │    │  ┌───┐┌───┐»\n",
              "«s_2: ──┼────┼────┼────■────┼────┼────■────┼────┼─────────┼────■──┤ H ├┤ X ├»\n",
              "«       │    │    │         │    │         │    │         │  ┌───┐├───┤└───┘»\n",
              "«s_3: ──■────┼────┼─────────┼────■─────────┼────■─────────■──┤ H ├┤ X ├─────»\n",
              "«            │    │         │              │  ┌───┐┌───┐     └───┘└───┘     »\n",
              "«s_4: ───────┼────■─────────■──────────────■──┤ H ├┤ X ├────────────────────»\n",
              "«            │  ┌───┐┌───┐                    └───┘└───┘                    »\n",
              "«s_5: ───────■──┤ H ├┤ X ├──────────────────────────────────────────────────»\n",
              "«               └───┘└───┘                                                  »\n",
              "«s_6: ──────────────────────────────────────────────────────────────────────»\n",
              "«                                                                           »\n",
              "«s_7: ──────────────────────────────────────────────────────────────────────»\n",
              "«                                                                           »\n",
              "«s_8: ──────────────────────────────────────────────────────────────────────»\n",
              "«                                                                           »\n",
              "«r: 9/══════════════════════════════════════════════════════════════════════»\n",
              "«                                                                           »\n",
              "«                                                                              »\n",
              "«o_0: ─────────────────────────────────────────────────────────────────────────»\n",
              "«          ┌───┐     ┌───┐                                                     »\n",
              "«b_0: ─────┤ X ├─────┤ X ├─────────────────────────────────────────────────────»\n",
              "«     ┌───┐└─┬─┘┌───┐└─┬─┘                                                     »\n",
              "«b_1: ┤ X ├──┼──┤ X ├──┼───────────────────────────────────────────────────────»\n",
              "«     └─┬─┘  │  └─┬─┘  │                                                       »\n",
              "«b_2: ──┼────┼────┼────┼───────────────────────────────────────────────────────»\n",
              "«       │    │    │    │                                                       »\n",
              "«b_3: ──┼────┼────┼────┼───────────────────────────────────────────────────────»\n",
              "«       │    │    │    │                                                       »\n",
              "«b_4: ──┼────┼────┼────┼───────────────────────────────────────────────────────»\n",
              "«       │    │    │    │                                                       »\n",
              "«b_5: ──┼────┼────┼────┼───────────────────────────────────────────────────────»\n",
              "«       │    │    │    │                                                       »\n",
              "«b_6: ──┼────┼────┼────┼───────────────────────────────────────────────────────»\n",
              "«       │    │    │    │                                                       »\n",
              "«b_7: ──┼────┼────┼────┼───────────────────────────────────────────────────────»\n",
              "«       │    │    │    │                                                       »\n",
              "«b_8: ──┼────┼────┼────┼───────────────────────────────────────────────────────»\n",
              "«       │    │    │    │  ┌───┐┌───┐┌───┐┌───┐┌───┐┌───┐┌───┐                  »\n",
              "«s_0: ──┼────┼────■────■──┤ H ├┤ X ├┤ H ├┤ X ├┤ H ├┤ X ├┤ H ├──────────────────»\n",
              "«       │    │  ┌───┐┌───┐└───┘└───┘└───┘└─┬─┘├───┤├───┤└───┘                  »\n",
              "«s_1: ──■────■──┤ H ├┤ X ├─────────────────■──┤ X ├┤ H ├───────────────────────»\n",
              "«               └───┘└───┘                 │  ├───┤├───┤                    ┌─┐»\n",
              "«s_2: ─────────────────────────────────────■──┤ X ├┤ H ├────────────────────┤M├»\n",
              "«                                          │  ├───┤├───┤                 ┌─┐└╥┘»\n",
              "«s_3: ─────────────────────────────────────■──┤ X ├┤ H ├─────────────────┤M├─╫─»\n",
              "«                                          │  ├───┤├───┤              ┌─┐└╥┘ ║ »\n",
              "«s_4: ─────────────────────────────────────■──┤ X ├┤ H ├──────────────┤M├─╫──╫─»\n",
              "«                                          │  ├───┤├───┤           ┌─┐└╥┘ ║  ║ »\n",
              "«s_5: ─────────────────────────────────────■──┤ X ├┤ H ├───────────┤M├─╫──╫──╫─»\n",
              "«                                          │  ├───┤├───┤        ┌─┐└╥┘ ║  ║  ║ »\n",
              "«s_6: ─────────────────────────────────────■──┤ X ├┤ H ├────────┤M├─╫──╫──╫──╫─»\n",
              "«                                          │  ├───┤├───┤     ┌─┐└╥┘ ║  ║  ║  ║ »\n",
              "«s_7: ─────────────────────────────────────■──┤ X ├┤ H ├─────┤M├─╫──╫──╫──╫──╫─»\n",
              "«                                          │  ├───┤├───┤ ┌─┐ └╥┘ ║  ║  ║  ║  ║ »\n",
              "«s_8: ─────────────────────────────────────■──┤ X ├┤ H ├─┤M├──╫──╫──╫──╫──╫──╫─»\n",
              "«                                             └───┘└───┘ └╥┘  ║  ║  ║  ║  ║  ║ »\n",
              "«r: 9/════════════════════════════════════════════════════╩═══╩══╩══╩══╩══╩══╩═»\n",
              "«                                                         8   7  6  5  4  3  2 »\n",
              "«           \n",
              "«o_0: ──────\n",
              "«           \n",
              "«b_0: ──────\n",
              "«           \n",
              "«b_1: ──────\n",
              "«           \n",
              "«b_2: ──────\n",
              "«           \n",
              "«b_3: ──────\n",
              "«           \n",
              "«b_4: ──────\n",
              "«           \n",
              "«b_5: ──────\n",
              "«           \n",
              "«b_6: ──────\n",
              "«           \n",
              "«b_7: ──────\n",
              "«           \n",
              "«b_8: ──────\n",
              "«        ┌─┐\n",
              "«s_0: ───┤M├\n",
              "«     ┌─┐└╥┘\n",
              "«s_1: ┤M├─╫─\n",
              "«     └╥┘ ║ \n",
              "«s_2: ─╫──╫─\n",
              "«      ║  ║ \n",
              "«s_3: ─╫──╫─\n",
              "«      ║  ║ \n",
              "«s_4: ─╫──╫─\n",
              "«      ║  ║ \n",
              "«s_5: ─╫──╫─\n",
              "«      ║  ║ \n",
              "«s_6: ─╫──╫─\n",
              "«      ║  ║ \n",
              "«s_7: ─╫──╫─\n",
              "«      ║  ║ \n",
              "«s_8: ─╫──╫─\n",
              "«      ║  ║ \n",
              "«r: 9/═╩══╩═\n",
              "«      1  0 "
            ]
          },
          "metadata": {
            "tags": []
          },
          "execution_count": 95
        }
      ]
    },
    {
      "cell_type": "markdown",
      "metadata": {
        "id": "Qftdt_rmHDU-"
      },
      "source": [
        "### F. Run the Grover-Circuit and use the measurement to obtain the solution:"
      ]
    },
    {
      "cell_type": "code",
      "metadata": {
        "id": "E0bDyciaHDU-"
      },
      "source": [
        "## Running the complete circuit:\n",
        "\n",
        "sim = Aer.get_backend('qasm_simulator')\n",
        "\n",
        "job = execute(qc, backend=sim, shots=1000)\n",
        "result = job.result()\n",
        "count = result.get_counts()"
      ],
      "execution_count": 96,
      "outputs": []
    },
    {
      "cell_type": "markdown",
      "metadata": {
        "id": "5ZfAcOGuHDU-"
      },
      "source": [
        "### Q6: Extract the solution form the results:"
      ]
    },
    {
      "cell_type": "markdown",
      "metadata": {
        "id": "ksQDelv5HDU_"
      },
      "source": [
        "'''   \n",
        "Q6  \n",
        "describe what your code does here for this final step, how do we extract the solution form the results:  \n",
        "\n",
        "here the solution knocks the door to get printed and show us itself only after 17 iterations and with around full probability."
      ]
    },
    {
      "cell_type": "code",
      "metadata": {
        "id": "4mOjSUz0HDU_",
        "colab": {
          "base_uri": "https://localhost:8080/"
        },
        "outputId": "3fe50d45-dcb8-4b22-a28f-cb69086a7081"
      },
      "source": [
        "''' Q6:\n",
        "\n",
        "Code to extract solution\n",
        "'''\n",
        "print(count)\n",
        "count_dict=dict(count)\n",
        "solutionn = max(count_dict, key=count_dict.get) \n",
        "print(solutionn) "
      ],
      "execution_count": 97,
      "outputs": [
        {
          "output_type": "stream",
          "text": [
            "{'000000000': 5, '000000001': 1, '000010000': 1, '100000000': 2, '100000001': 5, '100000010': 2, '100000011': 1, '100000100': 2, '100000101': 2, '100000111': 1, '100001000': 1, '100001001': 1, '100001010': 1, '100001011': 2, '100001100': 4, '100001110': 2, '100001111': 4, '000010001': 1, '100010000': 6, '100010010': 2, '100010100': 3, '100010110': 2, '100010111': 2, '100011000': 2, '100011001': 2, '100011010': 2, '100011011': 4, '100011101': 2, '100011110': 2, '100011111': 3, '000010010': 1, '100100001': 2, '100100010': 2, '100100011': 5, '100100100': 3, '100100101': 2, '100100110': 4, '100100111': 4, '100101000': 4, '100101001': 1, '100101010': 5, '100101011': 2, '100101100': 5, '100101101': 2, '100101110': 1, '000010011': 2, '100110000': 1, '100110001': 2, '100110010': 1, '100110011': 1, '100110100': 1, '100110101': 2, '100110110': 1, '100110111': 1, '100111000': 3, '100111001': 1, '100111010': 1, '100111011': 2, '100111100': 3, '100111101': 1, '100111110': 3, '100111111': 2, '000010100': 1, '101000000': 4, '101000001': 1, '101000010': 1, '101000011': 3, '101000100': 7, '101000101': 1, '101000110': 1, '101001001': 1, '101001010': 5, '101001100': 2, '101001101': 3, '101001110': 1, '101001111': 2, '000010101': 2, '101010000': 2, '101010010': 2, '101010011': 1, '101010100': 1, '101010101': 2, '101010110': 3, '101010111': 2, '101011000': 1, '101011001': 2, '101011010': 2, '101011100': 2, '101011101': 2, '101011110': 3, '101011111': 1, '000010110': 3, '101100000': 3, '101100001': 1, '101100010': 2, '101100100': 2, '101100101': 2, '101100111': 1, '101101000': 1, '101101001': 1, '101101010': 2, '101101100': 1, '101101101': 4, '101101110': 1, '101101111': 2, '000010111': 1, '101110000': 3, '101110001': 5, '101110010': 1, '101110011': 4, '101110100': 1, '101110101': 1, '101110111': 1, '101111000': 1, '101111001': 3, '101111010': 1, '101111011': 3, '101111100': 4, '101111101': 4, '101111110': 1, '101111111': 2, '000011000': 5, '110000000': 1, '110000001': 2, '110000010': 2, '110000011': 1, '110000100': 3, '110000101': 1, '110000111': 5, '110001001': 1, '110001010': 2, '110001011': 4, '110001100': 2, '110001101': 2, '110001110': 5, '000011001': 1, '110010000': 1, '110010001': 3, '110010010': 2, '110010011': 3, '110010100': 4, '110010101': 3, '110010110': 2, '110010111': 1, '110011000': 2, '110011001': 3, '110011010': 4, '110011011': 2, '110011100': 2, '110011101': 3, '110011110': 3, '110011111': 2, '000011010': 2, '110100000': 1, '110100001': 4, '110100010': 1, '110100011': 2, '110100100': 2, '110100101': 2, '110100110': 3, '110100111': 2, '110101000': 2, '110101001': 3, '110101011': 1, '110101100': 2, '110101101': 4, '110101110': 3, '000011011': 5, '110110000': 1, '110110001': 3, '110110010': 2, '110110100': 3, '110110101': 2, '110110110': 3, '110110111': 4, '110111000': 3, '110111001': 2, '110111011': 3, '110111100': 2, '110111101': 1, '110111110': 6, '110111111': 1, '000011100': 4, '111000000': 2, '111000001': 1, '111000011': 2, '111000100': 4, '111000101': 1, '111000110': 1, '111000111': 3, '111001001': 3, '111001010': 3, '111001011': 1, '111001100': 4, '111001101': 17, '111001110': 6, '111001111': 1, '000011101': 1, '111010000': 3, '111010001': 5, '111010010': 2, '111010011': 3, '111010100': 3, '111010110': 2, '111011000': 1, '111011001': 1, '111011010': 1, '111011011': 1, '111011100': 5, '111011101': 1, '111011110': 1, '111011111': 1, '111100000': 1, '111100001': 3, '111100010': 4, '111100011': 1, '111100100': 1, '111100101': 2, '111100110': 1, '111100111': 3, '111101000': 1, '111101001': 1, '111101010': 1, '111101011': 2, '111101100': 2, '111101101': 2, '111101110': 2, '111101111': 4, '000011111': 3, '111110000': 1, '111110001': 4, '111110010': 2, '111110011': 4, '111110100': 2, '111110101': 3, '111110110': 2, '111110111': 2, '111111000': 3, '111111001': 3, '111111010': 4, '111111011': 2, '111111100': 1, '111111101': 3, '111111110': 1, '111111111': 3, '000000010': 3, '000100000': 1, '000100010': 2, '000100100': 3, '000100101': 2, '000100110': 1, '000100111': 5, '000101000': 2, '000101010': 3, '000101011': 1, '000101100': 3, '000101110': 2, '000101111': 3, '000000011': 3, '000110000': 1, '000110010': 4, '000110011': 1, '000110100': 1, '000110101': 2, '000110110': 2, '000110111': 1, '000111000': 1, '000111001': 1, '000111010': 2, '000111011': 3, '000111100': 1, '000111110': 1, '000111111': 3, '001000000': 1, '001000001': 1, '001000010': 3, '001000011': 1, '001000100': 3, '001000101': 7, '001000110': 3, '001000111': 1, '001001001': 3, '001001010': 2, '001001100': 1, '001001101': 2, '001001110': 2, '001001111': 2, '001010000': 2, '001010010': 1, '001010011': 3, '001010100': 2, '001010101': 1, '001010110': 3, '001010111': 2, '001011000': 1, '001011001': 2, '001011010': 1, '001011011': 1, '001011100': 2, '001011101': 3, '001011111': 3, '000000110': 1, '001100000': 1, '001100011': 2, '001100100': 2, '001100101': 1, '001100110': 3, '001100111': 2, '001101000': 5, '001101001': 3, '001101011': 4, '001101101': 2, '001101110': 4, '001101111': 2, '001110000': 3, '001110001': 2, '001110010': 2, '001110011': 3, '001110100': 2, '001110110': 1, '001110111': 1, '001111001': 2, '001111010': 2, '001111100': 2, '001111101': 4, '001111110': 4, '001111111': 2, '000001000': 2, '010000000': 3, '010000001': 3, '010000010': 2, '010000011': 1, '010000100': 3, '010000110': 2, '010000111': 3, '010001000': 1, '010001001': 2, '010001011': 2, '010001100': 2, '010001101': 1, '010001110': 2, '000001001': 3, '010010000': 1, '010010001': 1, '010010010': 2, '010010011': 2, '010010100': 1, '010010110': 1, '010010111': 3, '010011000': 3, '010011001': 2, '010011011': 4, '010011100': 3, '010011101': 4, '010011110': 1, '010011111': 2, '010100000': 2, '010100001': 1, '010100010': 3, '010100011': 2, '010100100': 4, '010100101': 1, '010100111': 3, '010101000': 2, '010101001': 3, '010101010': 1, '010101011': 1, '010101100': 4, '010101101': 1, '010101110': 8, '010101111': 3, '010110000': 2, '010110001': 3, '010110010': 2, '010110011': 1, '010110100': 2, '010110101': 2, '010110110': 1, '010110111': 1, '010111000': 1, '010111001': 2, '010111101': 2, '010111110': 1, '010111111': 1, '000001100': 2, '011000000': 2, '011000001': 3, '011000011': 1, '011000100': 3, '011000101': 2, '011000110': 4, '011001000': 2, '011001001': 2, '011001011': 4, '011001100': 1, '011001101': 2, '011001110': 2, '011001111': 2, '011010000': 3, '011010001': 1, '011010010': 1, '011010100': 1, '011010101': 6, '011010110': 2, '011011000': 2, '011011001': 1, '011011010': 2, '011011011': 1, '011011100': 1, '011011101': 1, '011011110': 1, '011011111': 5, '000001110': 1, '011100000': 2, '011100001': 3, '011100010': 1, '011100011': 3, '011100101': 2, '011100110': 1, '011100111': 1, '011101000': 2, '011101001': 3, '011101010': 1, '011101011': 4, '011101100': 4, '011101101': 6, '011101111': 2, '011110000': 1, '011110001': 1, '011110010': 3, '011110011': 2, '011110100': 2, '011110110': 2, '011111000': 3, '011111001': 2, '011111010': 2, '011111011': 1, '011111100': 3, '011111101': 2, '011111110': 4, '011111111': 1}\n",
            "111001101\n"
          ],
          "name": "stdout"
        }
      ]
    },
    {
      "cell_type": "markdown",
      "metadata": {
        "id": "P4IuslsyHDU_"
      },
      "source": [
        "### Final Remarks: Wrap up your steps, talk briefly about your code and summarize the results and conclusion:  \n",
        "\n",
        "We managed to solve the lights out puzzle using Groover's qunatum algorithm with high probability and little time and 17 iterations and 1000 shots. The solution to the lights out puzzel, statring by 011001100, is 111001101. Also, the order of turining the lights doesn't matter.\n"
      ]
    },
    {
      "cell_type": "markdown",
      "metadata": {
        "id": "44Y61rMAHDU_"
      },
      "source": [
        "<h3><center>.........................................................  END .............................................................</center></h3>"
      ]
    }
  ]
}